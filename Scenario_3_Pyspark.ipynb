{
  "nbformat": 4,
  "nbformat_minor": 0,
  "metadata": {
    "colab": {
      "provenance": [],
      "authorship_tag": "ABX9TyNS5HyyJ5DrjxMd11pGkfG3",
      "include_colab_link": true
    },
    "kernelspec": {
      "name": "python3",
      "display_name": "Python 3"
    },
    "language_info": {
      "name": "python"
    }
  },
  "cells": [
    {
      "cell_type": "markdown",
      "metadata": {
        "id": "view-in-github",
        "colab_type": "text"
      },
      "source": [
        "<a href=\"https://colab.research.google.com/github/srinivasvarma123/dataengineering-Scenarios/blob/main/Scenario_3_Pyspark.ipynb\" target=\"_parent\"><img src=\"https://colab.research.google.com/assets/colab-badge.svg\" alt=\"Open In Colab\"/></a>"
      ]
    },
    {
      "cell_type": "code",
      "execution_count": 1,
      "metadata": {
        "id": "bF9FjjV6zg8E"
      },
      "outputs": [],
      "source": [
        "from pyspark.sql import SparkSession\n",
        "spark = SparkSession.builder.appName(\"pyspark\").getOrCreate()\n",
        "\n",
        "sc = spark.sparkContext"
      ]
    },
    {
      "cell_type": "code",
      "source": [
        "from pyspark.sql.functions import *\n",
        "\n",
        "data = [\n",
        "    (101, \"Eng\", 90),\n",
        "    (101, \"Sci\", 80),\n",
        "    (101, \"Mat\", 95),\n",
        "    (102, \"Eng\", 75),\n",
        "    (102, \"Sci\", 85),\n",
        "    (102, \"Mat\", 90)\n",
        "]\n",
        "columns = [\"Id\", \"Subject\", \"Marks\"]\n",
        "rdd = spark.sparkContext.parallelize(data)\n",
        "df = rdd.toDF(columns)\n",
        "df.show()\n"
      ],
      "metadata": {
        "colab": {
          "base_uri": "https://localhost:8080/"
        },
        "id": "HbswtZE4zmb2",
        "outputId": "0560ba87-337b-454f-9c62-c657f1373913"
      },
      "execution_count": 6,
      "outputs": [
        {
          "output_type": "stream",
          "name": "stdout",
          "text": [
            "+---+-------+-----+\n",
            "| Id|Subject|Marks|\n",
            "+---+-------+-----+\n",
            "|101|    Eng|   90|\n",
            "|101|    Sci|   80|\n",
            "|101|    Mat|   95|\n",
            "|102|    Eng|   75|\n",
            "|102|    Sci|   85|\n",
            "|102|    Mat|   90|\n",
            "+---+-------+-----+\n",
            "\n"
          ]
        }
      ]
    },
    {
      "cell_type": "code",
      "source": [
        "pivot_df = (\n",
        "\n",
        "            df\n",
        "            .groupBy(\"Id\")\n",
        "            .pivot(\"subject\")\n",
        "            .agg(first(\"Marks\"))\n",
        "            .select(\"Id\", \"Eng\", \"Sci\", \"Mat\")\n",
        ")\n",
        "\n",
        "pivot_df.show()"
      ],
      "metadata": {
        "colab": {
          "base_uri": "https://localhost:8080/"
        },
        "id": "jA4lDohAz4b-",
        "outputId": "36287e6c-ecb6-4e3b-ec31-6170d61162d1"
      },
      "execution_count": 9,
      "outputs": [
        {
          "output_type": "stream",
          "name": "stdout",
          "text": [
            "+---+---+---+---+\n",
            "| Id|Eng|Sci|Mat|\n",
            "+---+---+---+---+\n",
            "|101| 90| 80| 95|\n",
            "|102| 75| 85| 90|\n",
            "+---+---+---+---+\n",
            "\n"
          ]
        }
      ]
    }
  ]
}