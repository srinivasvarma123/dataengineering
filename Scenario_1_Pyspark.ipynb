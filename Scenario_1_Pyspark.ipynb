{
  "nbformat": 4,
  "nbformat_minor": 0,
  "metadata": {
    "colab": {
      "provenance": [],
      "authorship_tag": "ABX9TyO/f7/+fE2e9+CNa1vY0qh1",
      "include_colab_link": true
    },
    "kernelspec": {
      "name": "python3",
      "display_name": "Python 3"
    },
    "language_info": {
      "name": "python"
    }
  },
  "cells": [
    {
      "cell_type": "markdown",
      "metadata": {
        "id": "view-in-github",
        "colab_type": "text"
      },
      "source": [
        "<a href=\"https://colab.research.google.com/github/srinivasvarma123/dataengineering-Scenarios/blob/main/Scenario_1_Pyspark.ipynb\" target=\"_parent\"><img src=\"https://colab.research.google.com/assets/colab-badge.svg\" alt=\"Open In Colab\"/></a>"
      ]
    },
    {
      "cell_type": "code",
      "execution_count": 4,
      "metadata": {
        "colab": {
          "base_uri": "https://localhost:8080/"
        },
        "id": "zXoXM8TgtN7X",
        "outputId": "f7a825af-3b31-48e3-ae56-e4c4d03186c9"
      },
      "outputs": [
        {
          "output_type": "stream",
          "name": "stdout",
          "text": [
            "+-----+-----+---+\n",
            "|TeamA|TeamB|Won|\n",
            "+-----+-----+---+\n",
            "|    A|    D|  D|\n",
            "|    B|    A|  A|\n",
            "|    A|    D|  A|\n",
            "+-----+-----+---+\n",
            "\n",
            "+--------+\n",
            "|TeamName|\n",
            "+--------+\n",
            "|       A|\n",
            "|       B|\n",
            "|       D|\n",
            "+--------+\n",
            "\n",
            "+--------+--------+\n",
            "|TeamName|WonCount|\n",
            "+--------+--------+\n",
            "|       D|       1|\n",
            "|       A|       2|\n",
            "+--------+--------+\n",
            "\n",
            "+--------+---+\n",
            "|TeamName|Won|\n",
            "+--------+---+\n",
            "|       A|  2|\n",
            "|       B|  0|\n",
            "|       D|  1|\n",
            "+--------+---+\n",
            "\n"
          ]
        }
      ],
      "source": [
        "from pyspark.sql import SparkSession\n",
        "spark = SparkSession.builder.appName(\"pyspark\").getOrCreate()\n",
        "\n",
        "sc = spark.sparkContext\n",
        "\n",
        "from pyspark.sql.functions import *\n",
        "data = [\n",
        "    ('A', 'D', 'D'),\n",
        "    ('B', 'A', 'A'),\n",
        "    ('A', 'D', 'A')\n",
        "]\n",
        "\n",
        "df = spark.createDataFrame(data).toDF(\"TeamA\", \"TeamB\", \"Won\")\n",
        "df.show()\n",
        "\n",
        "all_teams_df = df.select(\n",
        "                        col(\"TeamA\").alias(\"TeamName\")).union(\n",
        "                        df.select(col(\"TeamB\").alias(\"TeamName\"))\n",
        ").distinct()\n",
        "all_teams_df.show()\n",
        "\n",
        "win_counts_df = (\n",
        "                    df\n",
        "                    .groupBy(\"Won\")\n",
        "                    .agg(count(\"Won\").alias(\"WonCount\"))\n",
        ")\n",
        "\n",
        "win_counts_df = win_counts_df.withColumnRenamed(\"Won\", \"TeamName\")\n",
        "win_counts_df.show()\n",
        "\n",
        "result_df = (\n",
        "    all_teams_df\n",
        "    .join(win_counts_df, \"TeamName\", \"left\")\n",
        "    .fillna({\"WonCount\": 0})\n",
        "    .withColumnRenamed(\"WonCount\", \"Won\")\n",
        "    .orderBy(\"TeamName\")\n",
        ")\n",
        "result_df.show()\n",
        "\n"
      ]
    }
  ]
}