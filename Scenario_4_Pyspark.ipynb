{
  "nbformat": 4,
  "nbformat_minor": 0,
  "metadata": {
    "colab": {
      "provenance": [],
      "authorship_tag": "ABX9TyMb3DZxj3C1tijUqeqCumXk",
      "include_colab_link": true
    },
    "kernelspec": {
      "name": "python3",
      "display_name": "Python 3"
    },
    "language_info": {
      "name": "python"
    }
  },
  "cells": [
    {
      "cell_type": "markdown",
      "metadata": {
        "id": "view-in-github",
        "colab_type": "text"
      },
      "source": [
        "<a href=\"https://colab.research.google.com/github/srinivasvarma123/dataengineering-Scenarios/blob/main/Scenario_4_Pyspark.ipynb\" target=\"_parent\"><img src=\"https://colab.research.google.com/assets/colab-badge.svg\" alt=\"Open In Colab\"/></a>"
      ]
    },
    {
      "cell_type": "code",
      "execution_count": 2,
      "metadata": {
        "id": "2b0o3TFh88r1"
      },
      "outputs": [],
      "source": [
        "from pyspark.sql import SparkSession\n",
        "spark = SparkSession.builder.appName(\"pyspark\").getOrCreate()\n",
        "\n",
        "sc = spark.sparkContext\n",
        "from pyspark.sql.functions import *"
      ]
    },
    {
      "cell_type": "code",
      "source": [
        "data = [\n",
        "    (\"SEA\", \"SF\", 300),\n",
        "    (\"CHI\", \"SEA\", 2000),\n",
        "    (\"SF\", \"SEA\", 300),\n",
        "    (\"SEA\", \"CHI\", 2000),\n",
        "    (\"SEA\", \"LND\", 500),\n",
        "    (\"LND\", \"SEA\", 500),\n",
        "    (\"LND\", \"CHI\", 1000),\n",
        "    (\"CHI\", \"NDL\", 180)]\n",
        "df = spark.createDataFrame(data, [\"from\", \"to\", \"dist\"])\n",
        "\n",
        "df.show()\n"
      ],
      "metadata": {
        "colab": {
          "base_uri": "https://localhost:8080/"
        },
        "id": "pdthIGdM9Ehw",
        "outputId": "bb5d7315-11e1-4211-ee40-fdfa11436c3d"
      },
      "execution_count": 3,
      "outputs": [
        {
          "output_type": "stream",
          "name": "stdout",
          "text": [
            "+----+---+----+\n",
            "|from| to|dist|\n",
            "+----+---+----+\n",
            "| SEA| SF| 300|\n",
            "| CHI|SEA|2000|\n",
            "|  SF|SEA| 300|\n",
            "| SEA|CHI|2000|\n",
            "| SEA|LND| 500|\n",
            "| LND|SEA| 500|\n",
            "| LND|CHI|1000|\n",
            "| CHI|NDL| 180|\n",
            "+----+---+----+\n",
            "\n"
          ]
        }
      ]
    },
    {
      "cell_type": "code",
      "source": [
        "df1 = df\n",
        "df1.show()\n",
        "df2 = df.withColumnRenamed(\"from\", \"from1\").withColumnRenamed(\"to\",\"to1\").withColumnRenamed(\"dist\", \"dist1\")\n",
        "df2.show()"
      ],
      "metadata": {
        "colab": {
          "base_uri": "https://localhost:8080/"
        },
        "id": "IgqncBd49iOk",
        "outputId": "fb370dc9-5e58-4b82-b8a0-f126d2845c97"
      },
      "execution_count": 46,
      "outputs": [
        {
          "output_type": "stream",
          "name": "stdout",
          "text": [
            "+----+---+----+\n",
            "|from| to|dist|\n",
            "+----+---+----+\n",
            "| SEA| SF| 300|\n",
            "| CHI|SEA|2000|\n",
            "|  SF|SEA| 300|\n",
            "| SEA|CHI|2000|\n",
            "| SEA|LND| 500|\n",
            "| LND|SEA| 500|\n",
            "| LND|CHI|1000|\n",
            "| CHI|NDL| 180|\n",
            "+----+---+----+\n",
            "\n",
            "+-----+---+-----+\n",
            "|from1|to1|dist1|\n",
            "+-----+---+-----+\n",
            "|  SEA| SF|  300|\n",
            "|  CHI|SEA| 2000|\n",
            "|   SF|SEA|  300|\n",
            "|  SEA|CHI| 2000|\n",
            "|  SEA|LND|  500|\n",
            "|  LND|SEA|  500|\n",
            "|  LND|CHI| 1000|\n",
            "|  CHI|NDL|  180|\n",
            "+-----+---+-----+\n",
            "\n"
          ]
        }
      ]
    },
    {
      "cell_type": "code",
      "source": [
        "join_df = (\n",
        "          df1.join(df2, (df1[\"to\"] == df2[\"from1\"]) & (df1[\"from\"] == df2[\"to1\"]) & (col(\"from\") < col(\"to\")), \"inner\")\n",
        "          .withColumn(\"roundtrip_dist\", col(\"dist\") + col(\"dist1\"))\n",
        "          .select(\"from\", \"to\", \"roundtrip_dist\")\n",
        "\n",
        ")\n",
        "join_df.show()"
      ],
      "metadata": {
        "colab": {
          "base_uri": "https://localhost:8080/"
        },
        "id": "ZUaGFufrALIN",
        "outputId": "23c7ecbd-0f46-4bab-eef2-a1940d19204a"
      },
      "execution_count": 66,
      "outputs": [
        {
          "output_type": "stream",
          "name": "stdout",
          "text": [
            "+----+---+--------------+\n",
            "|from| to|roundtrip_dist|\n",
            "+----+---+--------------+\n",
            "| CHI|SEA|          4000|\n",
            "| LND|SEA|          1000|\n",
            "| SEA| SF|           600|\n",
            "+----+---+--------------+\n",
            "\n"
          ]
        }
      ]
    }
  ]
}