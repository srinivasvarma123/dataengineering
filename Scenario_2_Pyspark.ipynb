{
  "nbformat": 4,
  "nbformat_minor": 0,
  "metadata": {
    "colab": {
      "provenance": [],
      "authorship_tag": "ABX9TyOaJ9seoYPLEfBDDOnqxxlj",
      "include_colab_link": true
    },
    "kernelspec": {
      "name": "python3",
      "display_name": "Python 3"
    },
    "language_info": {
      "name": "python"
    }
  },
  "cells": [
    {
      "cell_type": "markdown",
      "metadata": {
        "id": "view-in-github",
        "colab_type": "text"
      },
      "source": [
        "<a href=\"https://colab.research.google.com/github/srinivasvarma123/dataengineering-Scenarios/blob/main/Scenario_2_Pyspark.ipynb\" target=\"_parent\"><img src=\"https://colab.research.google.com/assets/colab-badge.svg\" alt=\"Open In Colab\"/></a>"
      ]
    },
    {
      "cell_type": "code",
      "execution_count": 2,
      "metadata": {
        "id": "jO3TcQ3Gx5BG"
      },
      "outputs": [],
      "source": [
        "from pyspark.sql import SparkSession\n",
        "spark = SparkSession.builder.appName(\"pyspark\").getOrCreate()\n",
        "\n",
        "sc = spark.sparkContext\n"
      ]
    },
    {
      "cell_type": "code",
      "source": [
        "from pyspark.sql.functions import *\n",
        "\n",
        "data1 = [\n",
        "    (1, \"Henry\"),\n",
        "    (2, \"Smith\"),\n",
        "    (3, \"Hall\")\n",
        "]\n",
        "columns1 = [\"id\", \"name\"]\n",
        "rdd1 = sc.parallelize(data1,1)\n",
        "df1 = rdd1.toDF(columns1)\n",
        "df1.show()\n",
        "data2 = [\n",
        "    (1, 100),\n",
        "    (2, 500),\n",
        "    (4, 1000)\n",
        "]\n",
        "columns2 = [\"id\", \"salary\"]\n",
        "rdd2 = sc.parallelize(data2,1)\n",
        "df2 = rdd2.toDF(columns2)\n",
        "df2.show()\n"
      ],
      "metadata": {
        "colab": {
          "base_uri": "https://localhost:8080/"
        },
        "id": "3_qrwz84yeEX",
        "outputId": "0514e8e1-b268-4cde-e407-86a136a09ca2"
      },
      "execution_count": 3,
      "outputs": [
        {
          "output_type": "stream",
          "name": "stdout",
          "text": [
            "+---+-----+\n",
            "| id| name|\n",
            "+---+-----+\n",
            "|  1|Henry|\n",
            "|  2|Smith|\n",
            "|  3| Hall|\n",
            "+---+-----+\n",
            "\n",
            "+---+------+\n",
            "| id|salary|\n",
            "+---+------+\n",
            "|  1|   100|\n",
            "|  2|   500|\n",
            "|  4|  1000|\n",
            "+---+------+\n",
            "\n"
          ]
        }
      ]
    },
    {
      "cell_type": "code",
      "source": [
        "innerdf =  (\n",
        "            df1.join(df2, \"id\", \"left\")\n",
        "            .orderBy(\"id\")\n",
        "            .fillna({\"salary\": 0})\n",
        ")\n",
        "\n",
        "innerdf.show()"
      ],
      "metadata": {
        "colab": {
          "base_uri": "https://localhost:8080/"
        },
        "id": "_IXX1fVoyhR0",
        "outputId": "ff546dda-7e68-4106-af51-89494aa4628a"
      },
      "execution_count": 4,
      "outputs": [
        {
          "output_type": "stream",
          "name": "stdout",
          "text": [
            "+---+-----+------+\n",
            "| id| name|salary|\n",
            "+---+-----+------+\n",
            "|  1|Henry|   100|\n",
            "|  2|Smith|   500|\n",
            "|  3| Hall|     0|\n",
            "+---+-----+------+\n",
            "\n"
          ]
        }
      ]
    }
  ]
}